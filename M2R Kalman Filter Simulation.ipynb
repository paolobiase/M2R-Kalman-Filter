{
 "cells": [
  {
   "cell_type": "markdown",
   "id": "b59a3772",
   "metadata": {},
   "source": [
    "# Kalman Filter Simulation"
   ]
  },
  {
   "cell_type": "markdown",
   "id": "c82bd69f",
   "metadata": {},
   "source": [
    "## Defining Kalman Filter"
   ]
  },
  {
   "cell_type": "markdown",
   "id": "9ded027d",
   "metadata": {},
   "source": [
    "#### The main source for this attempt will be the paper: \"A Monte-Carlo Performance Analysis of Kalman Filter and Targeting Algorithms for Autonomous Orbital Rendezvous\" by Andrew Thomas Vaughan, submitted to MIT in 2004. Note, a youtube video explaining how to create the code in Python was found, with a github page to be used. However, to keep this project original, a attempt at creating our own KF will be made, although the youtube video may have inspired some of these approaches. \n",
    "youtube video: https://www.youtube.com/watch?v=m5Bw1m8jJuY&list=PLvKAPIGzFEr8n7WRx8RptZmC1rXeTzYtA&index=3&ab_channel=CppMonk"
   ]
  },
  {
   "cell_type": "markdown",
   "id": "64bb0175",
   "metadata": {},
   "source": [
    "#### Variable/Parameters to be defined:"
   ]
  },
  {
   "cell_type": "markdown",
   "id": "2a7cccff",
   "metadata": {},
   "source": [
    "| Variable/Paraeter | Description |\n",
    "| :-: | :-- |\n",
    "| $x$ | True state vector |\n",
    "| $\\hat{x}$ | Estimated state vector |\n",
    "| $\\tilde{x}$ | State error vector |\n",
    "| $x^*$ | Nominal state vector |\n",
    "| $\\delta x$| Perturbation of state vector |\n",
    "| $\\hat{\\delta x}$ | Estimated perturbed state |\n",
    "| $z$ | True measurement vector |\n",
    "| $\\hat{z}$ | Estimated measurement vector |\n",
    "| $\\Phi$ | State transition matrix |\n",
    "| $\\omega$ | Process noise vector |\n",
    "| $v$ | Measurement noise vector |\n",
    "| $H$ | Measurement sensitivity matrix |\n",
    "| $Q$ | Process noise covariance matrix |\n",
    "| $R$ | Measurement noise covariance matrix |\n",
    "| $P$ | Error covariance matrix |\n",
    "| $K$ | Kalman gain (optimal gain) matrix |"
   ]
  },
  {
   "cell_type": "markdown",
   "id": "ba357d7b",
   "metadata": {},
   "source": [
    "#### Equations to be used in KF class:"
   ]
  },
  {
   "cell_type": "markdown",
   "id": "7ca038d9",
   "metadata": {},
   "source": [
    "$\n",
    "\\hat{x}_{i+1} = \\textbf{g}(\\hat{\\textbf{x}}_i, t_i, \\Delta t) \\\\\n",
    "\\textbf{g}(\\textbf{x}_i, t_i, \\Delta t) = \\Phi_{i+1},\n",
    "$"
   ]
  },
  {
   "cell_type": "markdown",
   "id": "2a140d17",
   "metadata": {},
   "source": [
    "Prediction step:\n",
    "\n",
    "\n",
    "Update step:\n"
   ]
  },
  {
   "cell_type": "markdown",
   "id": "2277b863",
   "metadata": {},
   "source": [
    "https://www.kalmanfilter.net/kalman1d.html"
   ]
  },
  {
   "cell_type": "markdown",
   "id": "088fd09c",
   "metadata": {},
   "source": [
    "Creating the KF class"
   ]
  },
  {
   "cell_type": "code",
   "execution_count": 8,
   "id": "a64074bf",
   "metadata": {},
   "outputs": [],
   "source": [
    "# equations based on https://www.kalmanfilter.net/kalman1d.html\n",
    "class KF_1D_runner:\n",
    "    def __init__(self, measurements, p_0, sigma, variance_estimate, delta_t):\n",
    "        # list with measurements\n",
    "        self.measurements = measurements\n",
    "        # \n",
    "        self.x_0 = self.measurements[0]\n",
    "        self.x = [self.x_0]\n",
    "        self.predictions = []\n",
    "        # Variance list\n",
    "        self.state_variance = p_0\n",
    "        self.p = [p_0]\n",
    "        self.variance = variance_estimate\n",
    "        # Kalman gain list\n",
    "        kg_0 = p_0/(p_0 + variance_estimate)\n",
    "        self.kg = [kg_0]\n",
    "        # Delta T\n",
    "        self.delta_t = delta_t\n",
    "        # assumming velocity variance is constant\n",
    "        self.p_velocity = 1\n",
    "        # number of steps\n",
    "        self.number_of_steps = len(self.measurements)\n",
    "    \n",
    "    # update\n",
    "    def k_n(self, n):\n",
    "        #Kalman gain equation\n",
    "        new_gain = self.p[n]/(self.p[n] + self.variance)\n",
    "        self.kg.append(new_gain)\n",
    "        #return new_gain\n",
    "        \n",
    "    def state_update(self, k):\n",
    "        value = self.x[k] + self.kg[k] * (self.measurements[k] - self.x[k])\n",
    "        self.x.append(value)\n",
    "        \n",
    "    def covariance_update(self, k):\n",
    "        value = (1-self.kg[k])*self.p[k]\n",
    "        self.p.append(value)\n",
    "        \n",
    "    # predict \n",
    "    def predictor(self, k):\n",
    "        # Not sure on how to define velocity\n",
    "        if k == 0:\n",
    "            value = 0\n",
    "        else:\n",
    "            value = self.x[k] + 0.5 * self.delta_t**2\n",
    "        self.predictions.append(value)\n",
    "    \n",
    "    # run model\n",
    "    def iterations(self):\n",
    "        n = self.number_of_steps\n",
    "        for n in range(n):\n",
    "            self.k_n(n)\n",
    "            self.state_update(n)\n",
    "            self.covariance_update(n)\n",
    "            self.predictor(n)\n",
    "\n",
    "    #    value = p[k] + self.delta_t**2 * self.p_velocity"
   ]
  },
  {
   "cell_type": "markdown",
   "id": "aae90694",
   "metadata": {},
   "source": [
    "testing:"
   ]
  },
  {
   "cell_type": "code",
   "execution_count": 9,
   "id": "fa3858f9",
   "metadata": {},
   "outputs": [
    {
     "name": "stdout",
     "output_type": "stream",
     "text": [
      "-0.043472763219580136 0.597339829635288\n"
     ]
    }
   ],
   "source": [
    "a = Runner(0,30,1)\n",
    "print(a.measured_position(0), a.measured_position(0))"
   ]
  },
  {
   "cell_type": "code",
   "execution_count": 10,
   "id": "d8a3458e",
   "metadata": {},
   "outputs": [
    {
     "name": "stdout",
     "output_type": "stream",
     "text": [
      "0.918915041949043 0.918915041949043\n"
     ]
    }
   ],
   "source": [
    "a = Runner(0,30,1)\n",
    "b = a.measured_path()\n",
    "test = KF_1D_runner(b, 1, 1,1,1)\n",
    "for n in range(30):\n",
    "    test.k_n(n)\n",
    "    test.state_update(n)\n",
    "    test.covariance_update(n)\n",
    "    test.predictor(n)\n",
    "\n",
    "print(b[0], test.x_0)"
   ]
  },
  {
   "cell_type": "markdown",
   "id": "1af162bc",
   "metadata": {},
   "source": [
    "### Creating position random experiment  1D"
   ]
  },
  {
   "cell_type": "code",
   "execution_count": 11,
   "id": "57402646",
   "metadata": {},
   "outputs": [],
   "source": [
    "import numpy as np\n",
    "import random\n",
    "import matplotlib.pyplot as plt\n",
    "\n",
    "class Runner:\n",
    "    def __init__(self, starting_position, steps, sigma):\n",
    "        self.starting_position = starting_position\n",
    "        #self.stamina = stamina\n",
    "        self.steps = steps\n",
    "        self.step = [n for n in range(steps)]\n",
    "        self.start_position = starting_position\n",
    "        self.sigma = sigma\n",
    "        self.seed = random.randint(1,100)\n",
    "        \n",
    "    def noise(self):\n",
    "        noise = np.random.normal(0, self.sigma, 1)\n",
    "        noise = noise[0]\n",
    "        return noise\n",
    "    \n",
    "    def real_path(self):\n",
    "        random.seed(self.seed)\n",
    "        list1 = [self.starting_position]\n",
    "        for n in range(self.steps):\n",
    "            value = list1[n] + random.random()\n",
    "            list1.append(value)\n",
    "        return list1\n",
    "    \n",
    "    def measured_path(self):\n",
    "        random.seed(self.seed)\n",
    "        list_measured = self.real_path()\n",
    "        for n in range(self.steps):\n",
    "            list_measured[n] += self.noise()\n",
    "        return list_measured\n",
    "    \n",
    "    def real_position(self, step):\n",
    "        return self.real_path()[step]\n",
    "    \n",
    "    def measured_position(self, step):\n",
    "        return self.measured_path()[step]\n",
    "    \n",
    "    def graph(self):\n",
    "        random.seed(self.seed)\n",
    "        return (plt.plot(self.real_path(), label=\"Real\")\n",
    "                + plt.plot(self.measured_path(), label=\"Measured\"),\n",
    "                plt.legend(loc=\"upper left\"))\n"
   ]
  },
  {
   "cell_type": "code",
   "execution_count": 12,
   "id": "28bcb1a1",
   "metadata": {},
   "outputs": [
    {
     "data": {
      "text/plain": [
       "31"
      ]
     },
     "execution_count": 12,
     "metadata": {},
     "output_type": "execute_result"
    },
    {
     "data": {
      "image/png": "[encoded data removed]",
      "text/plain": [
       "<Figure size 432x288 with 1 Axes>"
      ]
     },
     "metadata": {
      "needs_background": "light"
     },
     "output_type": "display_data"
    }
   ],
   "source": [
    "a = Runner(0,30,1)\n",
    "#print(a.real_position(4), a.measured_position(4))\n",
    "#print(a.real_path(), \"\\n\", a.measured_path())\n",
    "a.graph()\n",
    "len(a.real_path())\n",
    "\n",
    "# test = KF(initial_x = 0, initial_v = a.position(1), accel_variance=0.1)"
   ]
  },
  {
   "cell_type": "code",
   "execution_count": 13,
   "id": "721edb0a",
   "metadata": {},
   "outputs": [
    {
     "data": {
      "text/plain": [
       "[<matplotlib.lines.Line2D at 0x7f8001d5cd00>]"
      ]
     },
     "execution_count": 13,
     "metadata": {},
     "output_type": "execute_result"
    },
    {
     "data": {
      "image/png": "[encoded data removed]",
      "text/plain": [
       "<Figure size 432x288 with 1 Axes>"
      ]
     },
     "metadata": {
      "needs_background": "light"
     },
     "output_type": "display_data"
    }
   ],
   "source": [
    "n=20\n",
    "a = Runner(0,n,1)\n",
    "b, c = a.measured_path(), a.real_path()\n",
    "kfilter = KF_1D_runner(b, 1, 1,1,1)\n",
    "\n",
    "#running model\n",
    "for n in range(n+1):\n",
    "    kfilter.k_n(n)\n",
    "    kfilter.state_update(n)\n",
    "    kfilter.covariance_update(n)\n",
    "    kfilter.predictor(n)\n",
    "\n",
    "#Plotting it\n",
    "plt.plot(b)\n",
    "plt.plot(c)\n",
    "plt.plot(kfilter.predictions, label = \"filter\")"
   ]
  },
  {
   "cell_type": "markdown",
   "id": "71150ea1",
   "metadata": {},
   "source": [
    "#### Hidden Markov chain (ignore):"
   ]
  },
  {
   "cell_type": "code",
   "execution_count": 131,
   "id": "8a2700c8",
   "metadata": {},
   "outputs": [
    {
     "ename": "ModuleNotFoundError",
     "evalue": "No module named 'PyDTMC'",
     "output_type": "error",
     "traceback": [
      "\u001b[0;31m---------------------------------------------------------------------------\u001b[0m",
      "\u001b[0;31mModuleNotFoundError\u001b[0m                       Traceback (most recent call last)",
      "\u001b[0;32m<ipython-input-131-18115ce90301>\u001b[0m in \u001b[0;36m<module>\u001b[0;34m\u001b[0m\n\u001b[1;32m      1\u001b[0m \u001b[0;32mimport\u001b[0m \u001b[0mnumpy\u001b[0m \u001b[0;32mas\u001b[0m \u001b[0mnp\u001b[0m\u001b[0;34m\u001b[0m\u001b[0;34m\u001b[0m\u001b[0m\n\u001b[1;32m      2\u001b[0m \u001b[0;32mimport\u001b[0m \u001b[0mmatplotlib\u001b[0m\u001b[0;34m.\u001b[0m\u001b[0mpyplot\u001b[0m \u001b[0;32mas\u001b[0m \u001b[0mplt\u001b[0m\u001b[0;34m\u001b[0m\u001b[0;34m\u001b[0m\u001b[0m\n\u001b[0;32m----> 3\u001b[0;31m \u001b[0;32mimport\u001b[0m \u001b[0mPyDTMC\u001b[0m\u001b[0;34m\u001b[0m\u001b[0;34m\u001b[0m\u001b[0m\n\u001b[0m\u001b[1;32m      4\u001b[0m \u001b[0;34m\u001b[0m\u001b[0m\n\u001b[1;32m      5\u001b[0m \u001b[0mP\u001b[0m \u001b[0;34m=\u001b[0m \u001b[0mnp\u001b[0m\u001b[0;34m.\u001b[0m\u001b[0meye\u001b[0m\u001b[0;34m(\u001b[0m\u001b[0;36m4\u001b[0m\u001b[0;34m)\u001b[0m\u001b[0;34m\u001b[0m\u001b[0;34m\u001b[0m\u001b[0m\n",
      "\u001b[0;31mModuleNotFoundError\u001b[0m: No module named 'PyDTMC'"
     ]
    }
   ],
   "source": [
    "import numpy as np\n",
    "import matplotlib.pyplot as plt \n",
    "import PyDTMC\n",
    "\n",
    "P = np.eye(4)\n",
    "mc = MarkovChain(P, [\"X_0\", \"X_1\", \"X_2\", \"X_3\"])\n",
    "mc.draw()"
   ]
  },
  {
   "cell_type": "code",
   "execution_count": 2,
   "id": "111556ee",
   "metadata": {},
   "outputs": [
    {
     "ename": "SyntaxError",
     "evalue": "invalid syntax (<ipython-input-2-1f2f60f8bdc2>, line 1)",
     "output_type": "error",
     "traceback": [
      "\u001b[0;36m  File \u001b[0;32m\"<ipython-input-2-1f2f60f8bdc2>\"\u001b[0;36m, line \u001b[0;32m1\u001b[0m\n\u001b[0;31m    git clone https://github.com/TommasoBelluzzo/PyDTMC.git\u001b[0m\n\u001b[0m        ^\u001b[0m\n\u001b[0;31mSyntaxError\u001b[0m\u001b[0;31m:\u001b[0m invalid syntax\n"
     ]
    }
   ],
   "source": []
  },
  {
   "cell_type": "markdown",
   "id": "c9eb0863",
   "metadata": {},
   "source": [
    "Static Model:"
   ]
  },
  {
   "cell_type": "code",
   "execution_count": 88,
   "id": "3fb7d815",
   "metadata": {},
   "outputs": [],
   "source": [
    "import numpy as np\n",
    "import random\n",
    "import matplotlib.pyplot as plt\n",
    "\n",
    "class Static:\n",
    "    def __init__(self, real_value, number_measurements, sigma):\n",
    "        #self.stamina = stamina\n",
    "        self.number_measurements = number_measurements\n",
    "        self.m = [n for n in range(number_measurements)]\n",
    "        self.real_value = real_value\n",
    "        self.sigma = sigma\n",
    "        self.seed = random.randint(1,100)\n",
    "        \n",
    "    def noise(self):\n",
    "        noise = np.random.normal(0, self.sigma, 1)\n",
    "        noise = noise[0]\n",
    "        return noise\n",
    "    \n",
    "    def measurements(self):\n",
    "        random.seed(self.seed)\n",
    "        #list1 = [self.real_value]\n",
    "        list1 = [self.real_value + self.noise()]\n",
    "        for n in range(self.number_measurements):\n",
    "            value = self.real_value + self.noise()\n",
    "            list1.append(value)\n",
    "        # list2 = np.array(self.m, list1)\n",
    "        return list1\n",
    "    \n",
    "    def list_real_value(self):\n",
    "        random.seed(self.seed)\n",
    "        list_real_values = [self.real_value for n in range(self.number_measurements + 1)]\n",
    "        #return np.array(self.m, list_real_values)\n",
    "        return list_real_values\n",
    "    \n",
    "    def measured_position(self, measure_number):\n",
    "        return self.measurements()[measure_number]\n",
    "    \n",
    "    def graph(self):\n",
    "        random.seed(self.seed)\n",
    "        return (plt.plot(self.list_real_value(), label=\"Real\")\n",
    "                + plt.plot(self.measurements(), label=\"Measured\"),\n",
    "                plt.legend(loc=\"upper left\"))\n"
   ]
  },
  {
   "cell_type": "code",
   "execution_count": 89,
   "id": "a9178e0d",
   "metadata": {},
   "outputs": [
    {
     "data": {
      "text/plain": [
       "([<matplotlib.lines.Line2D at 0x7f80064c48e0>,\n",
       "  <matplotlib.lines.Line2D at 0x7f80061d1d00>],\n",
       " <matplotlib.legend.Legend at 0x7f80064c56a0>)"
      ]
     },
     "execution_count": 89,
     "metadata": {},
     "output_type": "execute_result"
    },
    {
     "data": {
      "image/png": "[encoded data removed]",
      "text/plain": [
       "<Figure size 432x288 with 1 Axes>"
      ]
     },
     "metadata": {
      "needs_background": "light"
     },
     "output_type": "display_data"
    }
   ],
   "source": [
    "h = Static(10, 20, 2)\n",
    "h.graph()"
   ]
  },
  {
   "cell_type": "code",
   "execution_count": 173,
   "id": "5e0a8520",
   "metadata": {},
   "outputs": [],
   "source": [
    "# equations based on https://www.kalmanfilter.net/kalman1d.html\n",
    "from scipy.stats import norm\n",
    "\n",
    "class KF_1D_Static:\n",
    "    def __init__(self, measurements, p_0, sigma, variance_estimate):\n",
    "        # list with measurements\n",
    "        self.measurements = measurements\n",
    "        # \n",
    "        self.x_0 = self.measurements[0]\n",
    "        self.x = [self.x_0]\n",
    "        self.predictions = []\n",
    "        # Variance list\n",
    "        self.state_variance = p_0\n",
    "        self.p = [p_0]\n",
    "        self.variance = variance_estimate\n",
    "        # Kalman gain list\n",
    "        kg_0 = p_0/(p_0 + variance_estimate)\n",
    "        self.kg = [kg_0]\n",
    "        # number of steps\n",
    "        self.number_of_steps = len(self.measurements)\n",
    "        # confidence interval\n",
    "        self.top_interval = []\n",
    "        self.bot_interval = []\n",
    "    \n",
    "    # update\n",
    "    def k_n(self, n):\n",
    "        #Kalman gain equation\n",
    "        new_gain = self.p[n]/(self.p[n] + self.variance)\n",
    "        self.kg.append(new_gain)\n",
    "        #return new_gain\n",
    "        \n",
    "    def state_update(self, k):\n",
    "        value = self.x[k] + self.kg[k] * (self.measurements[k] - self.x[k])\n",
    "        self.x.append(value)\n",
    "        \n",
    "    def covariance_update(self, k):\n",
    "        value = (1-self.kg[k])*self.p[k]\n",
    "        self.p.append(value)\n",
    "        \n",
    "    # predict \n",
    "    def predictor(self, k):\n",
    "        if k == 0:\n",
    "            value = self.x_0\n",
    "        else:\n",
    "            value = self.x[k]\n",
    "        self.predictions.append(value)\n",
    "        # Confidence interval\n",
    "        top = norm.ppf(0.95, self.x[k], self.p[0]/np.sqrt(k))\n",
    "        bot = norm.ppf(0.05, self.x[k], self.p[0]/np.sqrt(k))\n",
    "        self.top_interval.append(top)\n",
    "        self.bot_interval.append(bot)\n",
    "    \n",
    "    # run model\n",
    "    def iterations(self):\n",
    "        n = self.number_of_steps\n",
    "        for n in range(n):\n",
    "            self.k_n(n)\n",
    "            self.state_update(n)\n",
    "            self.covariance_update(n)\n",
    "            self.predictor(n)\n",
    "            \n",
    "#    def confidence_interval(self):\n",
    "#        list_norm = norm.cdf(self, 30, 5)\n",
    "\n",
    "    #    value = p[k] + self.delta_t**2 * self.p_velocity"
   ]
  },
  {
   "cell_type": "code",
   "execution_count": 174,
   "id": "25e87330",
   "metadata": {},
   "outputs": [
    {
     "data": {
      "text/plain": [
       "28.355146373048527"
      ]
     },
     "execution_count": 174,
     "metadata": {},
     "output_type": "execute_result"
    }
   ],
   "source": [
    "norm.ppf(0.05, 30, 1)\n",
    "#test = 30-norm.ppf(0.95, 30, 1)\n",
    "#norm.cdf(test, 30, 1)"
   ]
  },
  {
   "cell_type": "code",
   "execution_count": 181,
   "id": "8e5f9fc7",
   "metadata": {},
   "outputs": [
    {
     "name": "stderr",
     "output_type": "stream",
     "text": [
      "<ipython-input-173-5e7c317798a5>:48: RuntimeWarning: divide by zero encountered in double_scalars\n",
      "  top = norm.ppf(0.95, self.x[k], self.p[0]/np.sqrt(k))\n",
      "<ipython-input-173-5e7c317798a5>:49: RuntimeWarning: divide by zero encountered in double_scalars\n",
      "  bot = norm.ppf(0.05, self.x[k], self.p[0]/np.sqrt(k))\n"
     ]
    },
    {
     "data": {
      "text/plain": [
       "<matplotlib.collections.PolyCollection at 0x7f800907c640>"
      ]
     },
     "execution_count": 181,
     "metadata": {},
     "output_type": "execute_result"
    },
    {
     "data": {
      "image/png": "[encoded data removed]",
      "text/plain": [
       "<Figure size 432x288 with 1 Axes>"
      ]
     },
     "metadata": {
      "needs_background": "light"
     },
     "output_type": "display_data"
    }
   ],
   "source": [
    "n=50\n",
    "sigma = 0.5\n",
    "a = Static(0,n,sigma)\n",
    "b, c = a.measurements(), a.list_real_value()\n",
    "kfilter = KF_1D_Static(b, sigma, 1,1)\n",
    "\n",
    "#running model\n",
    "for n in range(n+1):\n",
    "    kfilter.k_n(n)\n",
    "    kfilter.state_update(n)\n",
    "    kfilter.covariance_update(n)\n",
    "    kfilter.predictor(n)\n",
    "\n",
    "measurement_number = [n for n in range(n+1)]\n",
    "#Plotting it\n",
    "plt.plot(b)\n",
    "plt.plot(c)\n",
    "plt.plot(kfilter.predictions, label = \"filter\")\n",
    "plt.fill_between(measurement_number, kfilter.top_interval, kfilter.bot_interval, color='r', alpha=0.5)"
   ]
  },
  {
   "cell_type": "code",
   "execution_count": null,
   "id": "221779a5",
   "metadata": {},
   "outputs": [],
   "source": []
  },
  {
   "cell_type": "code",
   "execution_count": null,
   "id": "9f781aa7",
   "metadata": {},
   "outputs": [],
   "source": []
  }
 ],
 "metadata": {
  "kernelspec": {
   "display_name": "Python 3",
   "language": "python",
   "name": "python3"
  },
  "language_info": {
   "codemirror_mode": {
    "name": "ipython",
    "version": 3
   },
   "file_extension": ".py",
   "mimetype": "text/x-python",
   "name": "python",
   "nbconvert_exporter": "python",
   "pygments_lexer": "ipython3",
   "version": "3.8.8"
  }
 },
 "nbformat": 4,
 "nbformat_minor": 5
}
